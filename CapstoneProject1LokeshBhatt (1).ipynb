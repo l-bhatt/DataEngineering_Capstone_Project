{
 "cells": [
  {
   "cell_type": "markdown",
   "metadata": {},
   "source": [
    "# This is an analysis of the Employee case study :Capstone Project"
   ]
  },
  {
   "cell_type": "markdown",
   "metadata": {},
   "source": [
    "### Things covered till now:\n",
    "    * Created Table in the SQL.\n",
    "    * Loaded tables in the HDFS using sqoop.\n",
    "    * Created HIVE tables, data stored as PARQUET File."
   ]
  },
  {
   "cell_type": "markdown",
   "metadata": {},
   "source": [
    "### Initiatlizing sql context"
   ]
  },
  {
   "cell_type": "code",
   "execution_count": 6,
   "metadata": {},
   "outputs": [],
   "source": [
    "from pyspark.sql import SQLContext\n",
    "from pyspark import SparkContext\n",
    "sc = SparkContext('local','Spark_session')\n",
    "Sqlcontext = SQLContext(sc)"
   ]
  },
  {
   "cell_type": "code",
   "execution_count": 7,
   "metadata": {},
   "outputs": [],
   "source": [
    "from pyspark.sql.functions import *\n",
    "from pyspark.sql.window import Window\n",
    "import pandas as pd\n",
    "import numpy as np\n",
    "import matplotlib.pyplot as plt\n",
    "import seaborn as sns\n",
    "%matplotlib inline"
   ]
  },
  {
   "cell_type": "markdown",
   "metadata": {},
   "source": [
    "### creating Dataframes of the individual Tables"
   ]
  },
  {
   "cell_type": "code",
   "execution_count": 8,
   "metadata": {},
   "outputs": [
    {
     "name": "stdout",
     "output_type": "stream",
     "text": [
      "+-------+-----------------+\n",
      "|dept_no|        dept_name|\n",
      "+-------+-----------------+\n",
      "|   d001|      \"Marketing\"|\n",
      "|   d002|        \"Finance\"|\n",
      "|   d003|\"Human Resources\"|\n",
      "+-------+-----------------+\n",
      "only showing top 3 rows\n",
      "\n"
     ]
    }
   ],
   "source": [
    "departments = Sqlcontext.read.parquet(\"hdfs://nameservice1/user/anabig114233/capstone/warehouse/departments/d2c19c73-751c-445f-aaa7-0b15bf5adb6a.parquet\")\n",
    "departments.show(3)"
   ]
  },
  {
   "cell_type": "code",
   "execution_count": 9,
   "metadata": {},
   "outputs": [
    {
     "name": "stdout",
     "output_type": "stream",
     "text": [
      "+------+-------+\n",
      "|emp_no|dept_no|\n",
      "+------+-------+\n",
      "| 10001|   d005|\n",
      "| 10002|   d007|\n",
      "| 10003|   d004|\n",
      "+------+-------+\n",
      "only showing top 3 rows\n",
      "\n"
     ]
    }
   ],
   "source": [
    "dept_emp = Sqlcontext.read.parquet(\"hdfs://nameservice1/user/anabig114233/capstone/warehouse/dept_emp/a08fd6bb-124c-4d80-9eb4-bdf8d83c355e.parquet\")\n",
    "dept_emp.show(3)"
   ]
  },
  {
   "cell_type": "code",
   "execution_count": 10,
   "metadata": {},
   "outputs": [
    {
     "name": "stdout",
     "output_type": "stream",
     "text": [
      "+-------+------+\n",
      "|dept_no|emp_no|\n",
      "+-------+------+\n",
      "|   d001|110022|\n",
      "|   d001|110039|\n",
      "|   d002|110085|\n",
      "+-------+------+\n",
      "only showing top 3 rows\n",
      "\n"
     ]
    }
   ],
   "source": [
    "dept_manager = Sqlcontext.read.parquet(\"hdfs://nameservice1/user/anabig114233/capstone/warehouse/dept_manager/58e3a0c5-48e1-4817-bb5e-af2124039f3b.parquet\")\n",
    "dept_manager.show(3)"
   ]
  },
  {
   "cell_type": "code",
   "execution_count": 11,
   "metadata": {},
   "outputs": [
    {
     "name": "stdout",
     "output_type": "stream",
     "text": [
      "+------+------------+----------+----------+---------+---+----------+--------------+----------------+-----------+----------+\n",
      "|emp_no|emp_title_id|birth_date|first_name|last_name|sex| hire_date|no_of_projects|Last_performance|left_status| last_date|\n",
      "+------+------------+----------+----------+---------+---+----------+--------------+----------------+-----------+----------+\n",
      "|\n",
      "|\n",
      "|\n",
      "+------+------------+----------+----------+---------+---+----------+--------------+----------------+-----------+----------+\n",
      "only showing top 3 rows\n",
      "\n"
     ]
    }
   ],
   "source": [
    "employees = Sqlcontext.read.parquet(\"hdfs://nameservice1/user/anabig114233/capstone/warehouse/employees/248b6afa-de10-45f3-89dc-78898dbbf5b3.parquet\")\n",
    "employees.show(3)"
   ]
  },
  {
   "cell_type": "code",
   "execution_count": 12,
   "metadata": {},
   "outputs": [
    {
     "name": "stdout",
     "output_type": "stream",
     "text": [
      "+------+------+\n",
      "|emp_no|salary|\n",
      "+------+------+\n",
      "| 10001| 60117|\n",
      "| 10002| 65828|\n",
      "| 10003| 40006|\n",
      "+------+------+\n",
      "only showing top 3 rows\n",
      "\n"
     ]
    }
   ],
   "source": [
    "salaries = Sqlcontext.read.parquet(\"hdfs://nameservice1/user/anabig114233/capstone/warehouse/salaries/cfa42688-4dde-4298-ae00-81043feb31de.parquet\")\n",
    "salaries.show(3)"
   ]
  },
  {
   "cell_type": "code",
   "execution_count": 13,
   "metadata": {
    "scrolled": true
   },
   "outputs": [
    {
     "name": "stdout",
     "output_type": "stream",
     "text": [
      "+--------+------------------+\n",
      "|title_id|             title|\n",
      "+--------+------------------+\n",
      "|   e0001|Assistant Engineer|\n",
      "|   e0002|          Engineer|\n",
      "|   e0003|   Senior Engineer|\n",
      "+--------+------------------+\n",
      "only showing top 3 rows\n",
      "\n"
     ]
    }
   ],
   "source": [
    "titles = Sqlcontext.read.parquet(\"hdfs://nameservice1/user/anabig114233/capstone/warehouse/titles/91e2b02b-42da-4213-85ef-a8524c7142b3.parquet\")\n",
    "titles.show(3)"
   ]
  },
  {
   "cell_type": "code",
   "execution_count": 14,
   "metadata": {
    "scrolled": false
   },
   "outputs": [
    {
     "name": "stdout",
     "output_type": "stream",
     "text": [
      "root\n",
      " |-- emp_no: integer (nullable = true)\n",
      " |-- emp_title_id: string (nullable = true)\n",
      " |-- birth_date: string (nullable = true)\n",
      " |-- first_name: string (nullable = true)\n",
      " |-- last_name: string (nullable = true)\n",
      " |-- sex: string (nullable = true)\n",
      " |-- hire_date: string (nullable = true)\n",
      " |-- no_of_projects: integer (nullable = true)\n",
      " |-- Last_performance: string (nullable = true)\n",
      " |-- left_status: string (nullable = true)\n",
      " |-- last_date: string (nullable = true)\n",
      "\n"
     ]
    }
   ],
   "source": [
    "employees.printSchema()"
   ]
  },
  {
   "cell_type": "markdown",
   "metadata": {},
   "source": [
    "### Removing double quotes in the dept_name column "
   ]
  },
  {
   "cell_type": "code",
   "execution_count": 15,
   "metadata": {},
   "outputs": [],
   "source": [
    "departments = departments.withColumn('dept_name', regexp_replace('dept_name', '\"', ''))"
   ]
  },
  {
   "cell_type": "code",
   "execution_count": 16,
   "metadata": {},
   "outputs": [
    {
     "name": "stdout",
     "output_type": "stream",
     "text": [
      "+-------+------------------+\n",
      "|dept_no|         dept_name|\n",
      "+-------+------------------+\n",
      "|   d001|         Marketing|\n",
      "|   d002|           Finance|\n",
      "|   d003|   Human Resources|\n",
      "|   d004|        Production|\n",
      "|   d005|       development|\n",
      "|   d006|Quality Management|\n",
      "|   d007|             Sales|\n",
      "|   d008|          Research|\n",
      "|   d009|  Customer Service|\n",
      "+-------+------------------+\n",
      "\n"
     ]
    }
   ],
   "source": [
    "departments.show()"
   ]
  },
  {
   "cell_type": "markdown",
   "metadata": {},
   "source": [
    "-------------------------------------------------------------------------------------------------------------------------"
   ]
  },
  {
   "cell_type": "code",
   "execution_count": 21,
   "metadata": {},
   "outputs": [],
   "source": [
    "## we need to convert the date type columns in the employees table to date\n",
    "\n",
    "employees = Sqlcontext.sql(\"\"\"select emp_no,\n",
    "emp_title_id,\n",
    "TO_DATE(CAST(UNIX_TIMESTAMP(birth_date, 'MM/dd/yyyy') AS TIMESTAMP)) as birth_date,\n",
    "first_name,\n",
    "last_name,\n",
    "sex,\n",
    "TO_DATE(CAST(UNIX_TIMESTAMP(hire_date, 'MM/dd/yyyy') AS TIMESTAMP)) as hire_date,\n",
    "no_of_projects,\n",
    "Last_performance,\n",
    "left_status,\n",
    "TO_DATE(CAST(UNIX_TIMESTAMP(last_date, 'MM/dd/yyyy') AS TIMESTAMP)) as last_date\n",
    "from employees\n",
    "\"\"\")\n",
    "\n",
    "employees.createOrReplaceTempView('employees')"
   ]
  },
  {
   "cell_type": "code",
   "execution_count": 22,
   "metadata": {},
   "outputs": [
    {
     "name": "stdout",
     "output_type": "stream",
     "text": [
      "+---------------------+\n",
      "|dayofmonth(hire_date)|\n",
      "+---------------------+\n",
      "|                   26|\n",
      "|                   21|\n",
      "|                   28|\n",
      "+---------------------+\n",
      "\n"
     ]
    }
   ],
   "source": [
    "## checking if transformed ??\n",
    "Sqlcontext.sql(\"\"\"select day(hire_date) from employees limit 3\"\"\").show()"
   ]
  },
  {
   "cell_type": "markdown",
   "metadata": {},
   "source": [
    "### saving the temp view to query based on the dataframes crrated"
   ]
  },
  {
   "cell_type": "code",
   "execution_count": 20,
   "metadata": {},
   "outputs": [],
   "source": [
    "departments.createOrReplaceTempView(\"departments\")\n",
    "dept_emp.createOrReplaceTempView(\"dept_emp\")\n",
    "dept_manager.createOrReplaceTempView(\"dept_manager\")\n",
    "employees.createOrReplaceTempView(\"employees\")\n",
    "salaries.createOrReplaceTempView(\"salaries\")\n",
    "titles.createOrReplaceTempView(\"titles\")"
   ]
  },
  {
   "cell_type": "code",
   "execution_count": 160,
   "metadata": {},
   "outputs": [],
   "source": [
    " ## -------------- Basic EDA to check info about the DataFrames  ------------------------------------------------------"
   ]
  },
  {
   "cell_type": "code",
   "execution_count": 179,
   "metadata": {},
   "outputs": [
    {
     "name": "stdout",
     "output_type": "stream",
     "text": [
      "+-------+\n",
      "|dept_no|\n",
      "+-------+\n",
      "|   d001|\n",
      "|   d002|\n",
      "|   d003|\n",
      "|   d004|\n",
      "|   d005|\n",
      "|   d006|\n",
      "|   d007|\n",
      "|   d008|\n",
      "|   d009|\n",
      "+-------+\n",
      "\n"
     ]
    }
   ],
   "source": [
    "## What are the distinct departments??\n",
    "Sqlcontext.sql(\"\"\"select distinct dept_no from departments order by dept_no\"\"\").show()\n",
    "## we have 9 distinct dept numbers\n"
   ]
  },
  {
   "cell_type": "code",
   "execution_count": 274,
   "metadata": {},
   "outputs": [
    {
     "name": "stdout",
     "output_type": "stream",
     "text": [
      "+------------------+\n",
      "|         dept_name|\n",
      "+------------------+\n",
      "|             Sales|\n",
      "|Quality Management|\n",
      "|           Finance|\n",
      "|        Production|\n",
      "|          Research|\n",
      "|  Customer Service|\n",
      "|         Marketing|\n",
      "|       development|\n",
      "|   Human Resources|\n",
      "+------------------+\n",
      "\n"
     ]
    }
   ],
   "source": [
    "Sqlcontext.sql(\"\"\"select distinct dept_name from departments \"\"\").show()\n",
    "## Distinct department name"
   ]
  },
  {
   "cell_type": "code",
   "execution_count": 184,
   "metadata": {},
   "outputs": [
    {
     "name": "stdout",
     "output_type": "stream",
     "text": [
      "+------------------+\n",
      "|             title|\n",
      "+------------------+\n",
      "|Assistant Engineer|\n",
      "|          Engineer|\n",
      "|   Senior Engineer|\n",
      "|  Technique Leader|\n",
      "|           Manager|\n",
      "|             Staff|\n",
      "|      Senior Staff|\n",
      "+------------------+\n",
      "\n"
     ]
    }
   ],
   "source": [
    "## what are distinct titles available??\n",
    "\n",
    "Sqlcontext.sql(\"\"\"select title from titles\"\"\").show()"
   ]
  },
  {
   "cell_type": "code",
   "execution_count": 189,
   "metadata": {},
   "outputs": [
    {
     "data": {
      "text/plain": [
       "300024"
      ]
     },
     "execution_count": 189,
     "metadata": {},
     "output_type": "execute_result"
    }
   ],
   "source": [
    "## How many managers, how many employees??\n",
    "Sqlcontext.sql(\"\"\"select distinct emp_no from dept_manager\"\"\").count() ## 24 managers\n",
    "Sqlcontext.sql(\"\"\"select distinct emp_no from employees\"\"\").count() ## 300024 employees"
   ]
  },
  {
   "cell_type": "code",
   "execution_count": 196,
   "metadata": {},
   "outputs": [
    {
     "name": "stdout",
     "output_type": "stream",
     "text": [
      "+-------------+\n",
      "|first_joining|\n",
      "+-------------+\n",
      "|   1985-01-01|\n",
      "+-------------+\n",
      "\n",
      "+--------------+\n",
      "|recent_joining|\n",
      "+--------------+\n",
      "|    2000-01-28|\n",
      "+--------------+\n",
      "\n"
     ]
    }
   ],
   "source": [
    "## First Date of Joining and Last date of Joining??\n",
    "Sqlcontext.sql(\"\"\"select MIN(hire_date) as first_joining from employees\"\"\").show()\n",
    "\n",
    "Sqlcontext.sql(\"\"\"select MAX(hire_date) as recent_joining from employees\"\"\").show()\n"
   ]
  },
  {
   "cell_type": "markdown",
   "metadata": {},
   "source": [
    "### Assignment Questions"
   ]
  },
  {
   "cell_type": "markdown",
   "metadata": {},
   "source": [
    "\n",
    "#### A list showing employee number, last name, first name, sex, and salary for each employee1.\n",
    "#### A list showing first name, last name, and hire date for employees who were hired in 1986."
   ]
  },
  {
   "cell_type": "markdown",
   "metadata": {},
   "source": [
    "------------------------------------------------------------------------------------------------------------------------------"
   ]
  },
  {
   "cell_type": "code",
   "execution_count": 202,
   "metadata": {
    "scrolled": true
   },
   "outputs": [
    {
     "name": "stdout",
     "output_type": "stream",
     "text": [
      "+------+----------+-----------+---+------+\n",
      "|emp_no|first_name|  last_name|sex|salary|\n",
      "+------+----------+-----------+---+------+\n",
      "| 10001|    Georgi|    Facello|  M| 60117|\n",
      "| 10002|   Bezalel|     Simmel|  F| 65828|\n",
      "| 10003|     Parto|    Bamford|  M| 40006|\n",
      "| 10004| Chirstian|    Koblick|  M| 40054|\n",
      "| 10005|   Kyoichi|   Maliniak|  M| 78228|\n",
      "| 10006|    Anneke|    Preusig|  F| 40000|\n",
      "| 10007|   Tzvetan|  Zielinski|  F| 56724|\n",
      "| 10008|    Saniya|   Kalloufi|  M| 46671|\n",
      "| 10009|    Sumant|       Peac|  F| 60929|\n",
      "| 10010| Duangkaew|   Piveteau|  F| 72488|\n",
      "| 10011|      Mary|      Sluis|  F| 42365|\n",
      "| 10012|  Patricio|  Bridgland|  M| 40000|\n",
      "| 10013| Eberhardt|     Terkki|  M| 40000|\n",
      "| 10014|     Berni|      Genin|  M| 46168|\n",
      "| 10015|  Guoxiang|  Nooteboom|  M| 40000|\n",
      "| 10016|  Kazuhito|Cappelletti|  M| 70889|\n",
      "| 10017| Cristinel|  Bouloucos|  F| 71380|\n",
      "| 10018|  Kazuhide|       Peha|  F| 55881|\n",
      "| 10019|   Lillian|    Haddadi|  M| 44276|\n",
      "| 10020|    Mayuko|    Warwick|  M| 40000|\n",
      "+------+----------+-----------+---+------+\n",
      "only showing top 20 rows\n",
      "\n"
     ]
    }
   ],
   "source": [
    "Sqlcontext.sql(\"\"\"select employees.emp_no, first_name, last_name, sex, salary from employees\n",
    "join salaries on employees.emp_no = salaries.emp_no\"\"\").show()"
   ]
  },
  {
   "cell_type": "code",
   "execution_count": 211,
   "metadata": {
    "scrolled": false
   },
   "outputs": [
    {
     "name": "stdout",
     "output_type": "stream",
     "text": [
      "+----------+------------+----------+\n",
      "|first_name|   last_name| hire_date|\n",
      "+----------+------------+----------+\n",
      "|    Georgi|     Facello|1986-06-26|\n",
      "|     Parto|     Bamford|1986-08-28|\n",
      "| Chirstian|     Koblick|1986-12-01|\n",
      "|    Sanjiv|    Zschoche|1986-02-04|\n",
      "|      Kwee|    Schusler|1986-02-26|\n",
      "|   Kshitij|        Gils|1986-03-27|\n",
      "|  Zhongwei|       Rosen|1986-10-30|\n",
      "|   Xinglin|     Eugenio|1986-09-08|\n",
      "| Sudharsan|Flasterstein|1986-08-12|\n",
      "|    Kendra|     Hofting|1986-03-14|\n",
      "|    Hilari|      Morton|1986-07-15|\n",
      "|     Akemi|       Birch|1986-12-02|\n",
      "|    Lunjin|      Giveon|1986-10-02|\n",
      "|    Xuejia|      Ullian|1986-08-22|\n",
      "|   Chikara|    Rissland|1986-01-23|\n",
      "|  Domenick|    Peltason|1986-03-14|\n",
      "|    Zissis|    Pintelas|1986-02-11|\n",
      "|     Perry|   Shimshoni|1986-09-18|\n",
      "|  Kazuhito| Encarnacion|1986-08-21|\n",
      "|   Xiadong|       Perry|1986-11-05|\n",
      "+----------+------------+----------+\n",
      "only showing top 20 rows\n",
      "\n"
     ]
    }
   ],
   "source": [
    "Sqlcontext.sql(\"\"\" select first_name, last_name, hire_date from employees\n",
    "where YEAR(hire_date) == 1986 \"\"\").show()"
   ]
  },
  {
   "cell_type": "markdown",
   "metadata": {},
   "source": [
    "#### A list showing the manager of each department with the following information: department number, department name, the manager's employee number, last name, first name."
   ]
  },
  {
   "cell_type": "markdown",
   "metadata": {},
   "source": [
    "----------------------------------------------------------------------------------------------------------------------------"
   ]
  },
  {
   "cell_type": "code",
   "execution_count": 275,
   "metadata": {
    "scrolled": false
   },
   "outputs": [
    {
     "name": "stdout",
     "output_type": "stream",
     "text": [
      "+-------+------------------+------+------------+-----------+\n",
      "|dept_no|         dept_name|emp_no|   last_name| first_name|\n",
      "+-------+------------------+------+------------+-----------+\n",
      "|   d001|         Marketing|110022|  Markovitch|  Margareta|\n",
      "|   d001|         Marketing|110039|    Minakawa|   Vishwani|\n",
      "|   d002|           Finance|110085|       Alpin|       Ebru|\n",
      "|   d002|           Finance|110114|  Legleitner|      Isamu|\n",
      "|   d003|   Human Resources|110183|Ossenbruggen|    Shirish|\n",
      "|   d003|   Human Resources|110228|     Sigstam|    Karsten|\n",
      "|   d004|        Production|110303|     Wegerle|  Krassimir|\n",
      "|   d004|        Production|110344|       Cools|     Rosine|\n",
      "|   d004|        Production|110386|      Kieras|       Shem|\n",
      "|   d004|        Production|110420|    Ghazalie|      Oscar|\n",
      "|   d005|       development|110511|    Hagimont|   DeForest|\n",
      "|   d005|       development|110567|    DasSarma|       Leon|\n",
      "|   d006|Quality Management|110725|     Onuegbe|  Peternela|\n",
      "|   d006|Quality Management|110765|     Hofmeyr|     Rutger|\n",
      "|   d006|Quality Management|110800|     Quadeer|     Sanjoy|\n",
      "|   d006|Quality Management|110854|       Pesch|       Dung|\n",
      "|   d007|             Sales|111035|   Kaelbling|Przemyslawa|\n",
      "|   d007|             Sales|111133|       Zhang|      Hauke|\n",
      "|   d008|          Research|111400|     Staelin|       Arie|\n",
      "|   d008|          Research|111534|      Kambil|     Hilary|\n",
      "+-------+------------------+------+------------+-----------+\n",
      "only showing top 20 rows\n",
      "\n"
     ]
    }
   ],
   "source": [
    "Sqlcontext.sql(\"\"\"select departments.dept_no,\n",
    "departments.dept_name,\n",
    "dept_manager.emp_no,\n",
    "last_name,\n",
    "first_name\n",
    "from departments\n",
    "join dept_manager\n",
    "on departments.dept_no = dept_manager.dept_no\n",
    "join employees\n",
    "on  dept_manager.emp_no = employees.emp_no\n",
    "\"\"\").show()  "
   ]
  },
  {
   "cell_type": "markdown",
   "metadata": {},
   "source": [
    "#### A list showing the department of each employee with the following information: employee number, last name, first name, and department name."
   ]
  },
  {
   "cell_type": "markdown",
   "metadata": {},
   "source": [
    "-------------------------------------------------------------------------------------------------------------------------------"
   ]
  },
  {
   "cell_type": "code",
   "execution_count": 276,
   "metadata": {
    "scrolled": false
   },
   "outputs": [
    {
     "name": "stdout",
     "output_type": "stream",
     "text": [
      "+------+----------+-----------+------------------+\n",
      "|emp_no|first_name|  last_name|         dept_name|\n",
      "+------+----------+-----------+------------------+\n",
      "| 10001|    Georgi|    Facello|       development|\n",
      "| 10002|   Bezalel|     Simmel|             Sales|\n",
      "| 10003|     Parto|    Bamford|        Production|\n",
      "| 10004| Chirstian|    Koblick|        Production|\n",
      "| 10005|   Kyoichi|   Maliniak|   Human Resources|\n",
      "| 10006|    Anneke|    Preusig|       development|\n",
      "| 10007|   Tzvetan|  Zielinski|          Research|\n",
      "| 10008|    Saniya|   Kalloufi|       development|\n",
      "| 10009|    Sumant|       Peac|Quality Management|\n",
      "| 10010| Duangkaew|   Piveteau|        Production|\n",
      "| 10010| Duangkaew|   Piveteau|Quality Management|\n",
      "| 10011|      Mary|      Sluis|  Customer Service|\n",
      "| 10012|  Patricio|  Bridgland|       development|\n",
      "| 10013| Eberhardt|     Terkki|   Human Resources|\n",
      "| 10014|     Berni|      Genin|       development|\n",
      "| 10015|  Guoxiang|  Nooteboom|          Research|\n",
      "| 10016|  Kazuhito|Cappelletti|             Sales|\n",
      "| 10017| Cristinel|  Bouloucos|         Marketing|\n",
      "| 10018|  Kazuhide|       Peha|        Production|\n",
      "| 10018|  Kazuhide|       Peha|       development|\n",
      "+------+----------+-----------+------------------+\n",
      "only showing top 20 rows\n",
      "\n"
     ]
    }
   ],
   "source": [
    "Sqlcontext.sql(\"\"\" select\n",
    "dept_emp.emp_no,\n",
    "first_name,\n",
    "last_name,\n",
    "departments.dept_name\n",
    "from departments\n",
    "join dept_emp\n",
    "on departments.dept_no = dept_emp.dept_no\n",
    "join employees\n",
    "on dept_emp.emp_no = employees.emp_no\n",
    "\"\"\").show()"
   ]
  },
  {
   "cell_type": "markdown",
   "metadata": {},
   "source": [
    "#### A list showing first name, last name, and sex for employees whose first name is \"Hercules\" and last names begin with \"B.“"
   ]
  },
  {
   "cell_type": "code",
   "execution_count": 229,
   "metadata": {
    "scrolled": true
   },
   "outputs": [
    {
     "name": "stdout",
     "output_type": "stream",
     "text": [
      "+----------+-------------+---+\n",
      "|first_name|    last_name|sex|\n",
      "+----------+-------------+---+\n",
      "|  Hercules|   Benzmuller|  M|\n",
      "|  Hercules|      Brendel|  F|\n",
      "|  Hercules|   Baranowski|  M|\n",
      "|  Hercules|     Barreiro|  M|\n",
      "|  Hercules|         Baer|  M|\n",
      "|  Hercules|Bernardinello|  F|\n",
      "|  Hercules|      Basagni|  M|\n",
      "|  Hercules|        Biran|  F|\n",
      "|  Hercules|    Bernatsky|  M|\n",
      "|  Hercules|         Bail|  F|\n",
      "|  Hercules|        Birge|  F|\n",
      "|  Hercules|      Bisiani|  F|\n",
      "|  Hercules|       Bodoff|  M|\n",
      "|  Hercules|        Biron|  F|\n",
      "|  Hercules|      Buchter|  M|\n",
      "|  Hercules|         Bain|  F|\n",
      "|  Hercules|         Bahr|  M|\n",
      "|  Hercules|         Baak|  M|\n",
      "|  Hercules|     Benantar|  F|\n",
      "|  Hercules|      Berstel|  F|\n",
      "+----------+-------------+---+\n",
      "\n"
     ]
    }
   ],
   "source": [
    "Sqlcontext.sql(\"\"\" select \n",
    "first_name,\n",
    "last_name,\n",
    "sex\n",
    "from employees\n",
    "where first_name == \"Hercules\" and last_name LIKE \"B%\"\n",
    "\"\"\").show()"
   ]
  },
  {
   "cell_type": "markdown",
   "metadata": {},
   "source": [
    "#### A list showing all employees in the Sales department, including their employee number, last name, first name, and department name."
   ]
  },
  {
   "cell_type": "code",
   "execution_count": 277,
   "metadata": {
    "scrolled": false
   },
   "outputs": [
    {
     "name": "stdout",
     "output_type": "stream",
     "text": [
      "+------+----------+------------+---------+\n",
      "|emp_no|first_name|   last_name|dept_name|\n",
      "+------+----------+------------+---------+\n",
      "| 10002|   Bezalel|      Simmel|    Sales|\n",
      "| 10016|  Kazuhito| Cappelletti|    Sales|\n",
      "| 10034|     Bader|        Swan|    Sales|\n",
      "| 10041|       Uri|      Lenart|    Sales|\n",
      "| 10050|   Yinghua|      Dredge|    Sales|\n",
      "| 10053|    Sanjiv|    Zschoche|    Sales|\n",
      "| 10060|  Breannda| Billingsley|    Sales|\n",
      "| 10061|       Tse|      Herber|    Sales|\n",
      "| 10068|  Charlene|     Brattka|    Sales|\n",
      "| 10087|   Xinglin|     Eugenio|    Sales|\n",
      "| 10088|  Jungsoon|    Syrzycki|    Sales|\n",
      "| 10089| Sudharsan|Flasterstein|    Sales|\n",
      "| 10093|   Sailaja|     Desikan|    Sales|\n",
      "| 10095|    Hilari|      Morton|    Sales|\n",
      "| 10099|    Valter|     Sullins|    Sales|\n",
      "| 10101|     Perla|      Heyers|    Sales|\n",
      "| 10107|      Dung|        Baca|    Sales|\n",
      "| 10125|     Syozo|     Hiltgen|    Sales|\n",
      "| 10136|    Zissis|    Pintelas|    Sales|\n",
      "| 10148|    Douadi|       Azumi|    Sales|\n",
      "+------+----------+------------+---------+\n",
      "only showing top 20 rows\n",
      "\n"
     ]
    }
   ],
   "source": [
    "Sqlcontext.sql(\"\"\"select\n",
    "dept_emp.emp_no,\n",
    "first_name,\n",
    "last_name,\n",
    "departments.dept_name\n",
    "from departments\n",
    "join dept_emp\n",
    "on departments.dept_no = dept_emp.dept_no\n",
    "join employees\n",
    "on dept_emp.emp_no = employees.emp_no\n",
    "where dept_name == 'Sales'\n",
    "\"\"\").show()"
   ]
  },
  {
   "cell_type": "markdown",
   "metadata": {},
   "source": [
    "#### A list showing all employees in the Sales and Development departments, including their employee number, last name, first name, and department name"
   ]
  },
  {
   "cell_type": "markdown",
   "metadata": {},
   "source": [
    "----------------------------------------------------------------------------------------------------------------------------"
   ]
  },
  {
   "cell_type": "code",
   "execution_count": 280,
   "metadata": {
    "scrolled": false
   },
   "outputs": [
    {
     "name": "stdout",
     "output_type": "stream",
     "text": [
      "+------+----------+-----------+-----------+\n",
      "|emp_no|first_name|  last_name|  dept_name|\n",
      "+------+----------+-----------+-----------+\n",
      "| 10001|    Georgi|    Facello|development|\n",
      "| 10002|   Bezalel|     Simmel|      Sales|\n",
      "| 10006|    Anneke|    Preusig|development|\n",
      "| 10008|    Saniya|   Kalloufi|development|\n",
      "| 10012|  Patricio|  Bridgland|development|\n",
      "| 10014|     Berni|      Genin|development|\n",
      "| 10016|  Kazuhito|Cappelletti|      Sales|\n",
      "| 10018|  Kazuhide|       Peha|development|\n",
      "| 10021|     Ramzi|       Erde|development|\n",
      "| 10022|    Shahaf|     Famili|development|\n",
      "| 10023|     Bojan| Montemayor|development|\n",
      "| 10025| Prasadram|     Heyers|development|\n",
      "| 10027|    Divier|    Reistad|development|\n",
      "| 10028|  Domenick|   Tempesti|development|\n",
      "| 10031|   Karsten|     Joslin|development|\n",
      "| 10034|     Bader|       Swan|      Sales|\n",
      "| 10037|   Pradeep|   Makrucki|development|\n",
      "| 10040|     Weiyi|    Meriste|development|\n",
      "| 10041|       Uri|     Lenart|      Sales|\n",
      "| 10043|    Yishay|    Tzvieli|development|\n",
      "+------+----------+-----------+-----------+\n",
      "only showing top 20 rows\n",
      "\n"
     ]
    }
   ],
   "source": [
    "Sqlcontext.sql(\"\"\"select\n",
    "dept_emp.emp_no,\n",
    "first_name,\n",
    "last_name,\n",
    "departments.dept_name\n",
    "from departments\n",
    "join dept_emp\n",
    "on departments.dept_no = dept_emp.dept_no\n",
    "join employees\n",
    "on dept_emp.emp_no = employees.emp_no\n",
    "where dept_name == 'Sales' or dept_name == \"development\"\n",
    "\"\"\").show()"
   ]
  },
  {
   "cell_type": "markdown",
   "metadata": {},
   "source": [
    "### A list showing the frequency count of employee last names, in descending order. ( i.e., how many employees share each last name"
   ]
  },
  {
   "cell_type": "markdown",
   "metadata": {},
   "source": [
    "----------------------------------------------------------------------------------------------------------------------------"
   ]
  },
  {
   "cell_type": "code",
   "execution_count": 301,
   "metadata": {
    "scrolled": false
   },
   "outputs": [
    {
     "name": "stdout",
     "output_type": "stream",
     "text": [
      "+-----------+-----+\n",
      "|  last_name|count|\n",
      "+-----------+-----+\n",
      "|       Baba|  226|\n",
      "|     Gelosh|  223|\n",
      "|      Coorg|  223|\n",
      "|    Sudbeck|  222|\n",
      "|     Farris|  222|\n",
      "|     Adachi|  221|\n",
      "|     Osgood|  220|\n",
      "|     Neiman|  218|\n",
      "|    Mandell|  218|\n",
      "|     Masada|  218|\n",
      "|Boudaillier|  217|\n",
      "|    Wendorf|  217|\n",
      "|     Mahnke|  216|\n",
      "|    Solares|  216|\n",
      "|     Pettis|  216|\n",
      "|   Cummings|  216|\n",
      "|     Emmart|  215|\n",
      "|    Kulisch|  215|\n",
      "|   Birjandi|  215|\n",
      "| Maksimenko|  215|\n",
      "+-----------+-----+\n",
      "only showing top 20 rows\n",
      "\n"
     ]
    }
   ],
   "source": [
    "Sqlcontext.sql(\"\"\"\n",
    "select last_name,\n",
    "COUNT(emp_no) as count\n",
    "from employees\n",
    "group by last_name\n",
    "order by count desc\n",
    "\n",
    "\"\"\").show()"
   ]
  },
  {
   "cell_type": "markdown",
   "metadata": {},
   "source": [
    "### Histogram to show the salary distribution among the employees"
   ]
  },
  {
   "cell_type": "code",
   "execution_count": 302,
   "metadata": {},
   "outputs": [],
   "source": [
    "salary = Sqlcontext.sql(\"\"\"\n",
    "select salary\n",
    "from salaries\n",
    "\"\"\").toPandas()"
   ]
  },
  {
   "cell_type": "code",
   "execution_count": 319,
   "metadata": {},
   "outputs": [
    {
     "data": {
      "image/png": "[encoded data removed]",
      "text/plain": [
       "<Figure size 720x432 with 1 Axes>"
      ]
     },
     "metadata": {
      "needs_background": "light"
     },
     "output_type": "display_data"
    }
   ],
   "source": [
    "fig, axes = plt.subplots(figsize = (10, 6))\n",
    "plt.hist(salary['salary'], bins = 20, edgecolor = 'gray')\n",
    "plt.title(\"salary distribution of employees\")\n",
    "plt.xlabel(\"salary\")\n",
    "plt.show()"
   ]
  },
  {
   "cell_type": "markdown",
   "metadata": {},
   "source": [
    "### Bar graph to show the Average salary per title (designation)"
   ]
  },
  {
   "cell_type": "code",
   "execution_count": 334,
   "metadata": {
    "scrolled": true
   },
   "outputs": [
    {
     "name": "stdout",
     "output_type": "stream",
     "text": [
      "+------------+\n",
      "|emp_title_id|\n",
      "+------------+\n",
      "|       e0004|\n",
      "|       e0003|\n",
      "|       s0001|\n",
      "|       m0001|\n",
      "|       e0001|\n",
      "|       e0002|\n",
      "|       s0002|\n",
      "+------------+\n",
      "\n"
     ]
    }
   ],
   "source": [
    "Sqlcontext.sql(\"\"\"select distinct\n",
    "emp_title_id from employees\n",
    "\n",
    "\"\"\").show()"
   ]
  },
  {
   "cell_type": "code",
   "execution_count": 337,
   "metadata": {
    "scrolled": true
   },
   "outputs": [
    {
     "name": "stdout",
     "output_type": "stream",
     "text": [
      "+-----+\n",
      "| from|\n",
      "+-----+\n",
      "|e0004|\n",
      "|e0003|\n",
      "|s0001|\n",
      "|m0001|\n",
      "|e0001|\n",
      "|e0002|\n",
      "|s0002|\n",
      "+-----+\n",
      "\n"
     ]
    }
   ],
   "source": [
    "Sqlcontext.sql(\"\"\"select distinct title_id from  from titles\"\"\").show()"
   ]
  },
  {
   "cell_type": "markdown",
   "metadata": {},
   "source": [
    "## unable to perform the join??"
   ]
  },
  {
   "cell_type": "code",
   "execution_count": null,
   "metadata": {},
   "outputs": [],
   "source": []
  },
  {
   "cell_type": "code",
   "execution_count": 328,
   "metadata": {},
   "outputs": [
    {
     "name": "stdout",
     "output_type": "stream",
     "text": [
      "+--------+------------------+\n",
      "|title_id|             title|\n",
      "+--------+------------------+\n",
      "|   e0001|Assistant Engineer|\n",
      "|   e0002|          Engineer|\n",
      "|   e0003|   Senior Engineer|\n",
      "|   e0004|  Technique Leader|\n",
      "|   m0001|           Manager|\n",
      "|   s0001|             Staff|\n",
      "|   s0002|      Senior Staff|\n",
      "+--------+------------------+\n",
      "\n"
     ]
    }
   ],
   "source": [
    "Sqlcontext.sql(\"\"\"select title_id, title from titles\"\"\").show()"
   ]
  },
  {
   "cell_type": "markdown",
   "metadata": {},
   "source": [
    "### Calculate employee tenure & show the tenure distribution among the employees"
   ]
  },
  {
   "cell_type": "code",
   "execution_count": 357,
   "metadata": {
    "scrolled": true
   },
   "outputs": [],
   "source": [
    "year_tenure = Sqlcontext.sql(\"\"\"select floor(months_between(last_date, hire_date)/12) AS tenure_in_years from employees\"\"\")\n",
    "tenure_dist = year_tenure.filter(\"tenure_in_years is not null\")\n",
    "tenure_dist.createOrReplaceTempView(\"tenure_dist\")"
   ]
  },
  {
   "cell_type": "code",
   "execution_count": 363,
   "metadata": {},
   "outputs": [],
   "source": [
    "tenure_dist = tenure_dist.toPandas()"
   ]
  },
  {
   "cell_type": "code",
   "execution_count": 396,
   "metadata": {
    "scrolled": true
   },
   "outputs": [
    {
     "data": {
      "image/png": "[encoded data removed]",
      "text/plain": [
       "<Figure size 432x288 with 1 Axes>"
      ]
     },
     "metadata": {
      "needs_background": "light"
     },
     "output_type": "display_data"
    }
   ],
   "source": [
    "\n",
    "plt.hist(tenure_dist['tenure_in_years'], bins = range(14), color = 'khaki', edgecolor = 'gray')\n",
    "plt.xticks(range(14))\n",
    "plt.xlabel(\"No of years in Organization\")\n",
    "plt.title(\"Tenure of the employees\")\n",
    "plt.show()"
   ]
  },
  {
   "cell_type": "markdown",
   "metadata": {},
   "source": [
    "### Resignations across the years, Is there any trend observed in Resignations "
   ]
  },
  {
   "cell_type": "code",
   "execution_count": 403,
   "metadata": {},
   "outputs": [],
   "source": [
    "resignations = Sqlcontext.sql(\"\"\"select\n",
    "YEAR(last_date) as financial_year,\n",
    "COUNT(emp_no) as employees\n",
    "from employees\n",
    "where last_date is not null\n",
    "group by financial_year\n",
    "order by financial_year\"\"\").toPandas()\n"
   ]
  },
  {
   "cell_type": "code",
   "execution_count": 408,
   "metadata": {
    "scrolled": false
   },
   "outputs": [
    {
     "data": {
      "text/plain": [
       "Text(0.5, 1.0, 'Resignations distribution across the years')"
      ]
     },
     "execution_count": 408,
     "metadata": {},
     "output_type": "execute_result"
    },
    {
     "data": {
      "image/png": "[encoded data removed]",
      "text/plain": [
       "<Figure size 1008x432 with 1 Axes>"
      ]
     },
     "metadata": {
      "needs_background": "light"
     },
     "output_type": "display_data"
    }
   ],
   "source": [
    "plt.figure(figsize = (14, 6))\n",
    "sns.barplot(data = resignations, x = 'financial_year', y= 'employees', color = '#DB81D1')\n",
    "plt.title(\"Resignations distribution across the years\")"
   ]
  },
  {
   "cell_type": "markdown",
   "metadata": {},
   "source": [
    "## we can observe that the resignations slowed down post 1998, might be attributed to good company retention policies"
   ]
  },
  {
   "cell_type": "markdown",
   "metadata": {},
   "source": [
    "----------------------------------------------------------------------------------------------------------------------------"
   ]
  },
  {
   "cell_type": "markdown",
   "metadata": {},
   "source": [
    "### which departments saw highest resignation within the timeline i.e. 1992 -1998 or was it equal for all?\n",
    "\n"
   ]
  },
  {
   "cell_type": "code",
   "execution_count": 435,
   "metadata": {},
   "outputs": [],
   "source": [
    "selective_resignation = Sqlcontext.sql(\"\"\"select\n",
    "YEAR(last_date) as financial_year,\n",
    "dept_name,\n",
    "COUNT(employees.emp_no) as employees\n",
    "from employees\n",
    "join dept_emp\n",
    "on dept_emp.emp_no = employees.emp_no\n",
    "join departments\n",
    "on dept_emp.dept_no = departments.dept_no\n",
    "where last_date is not null\n",
    "and YEAR(last_date) BETWEEN 1992 AND 1998\n",
    "group by 1, 2\n",
    "order by 1 , 3 desc\"\"\"\n",
    ")"
   ]
  },
  {
   "cell_type": "code",
   "execution_count": 422,
   "metadata": {
    "scrolled": true
   },
   "outputs": [
    {
     "name": "stdout",
     "output_type": "stream",
     "text": [
      "+--------------+------------------+---------+\n",
      "|financial_year|         dept_name|employees|\n",
      "+--------------+------------------+---------+\n",
      "|          1992|       development|      434|\n",
      "|          1992|        Production|      352|\n",
      "|          1992|             Sales|      246|\n",
      "|          1992|  Customer Service|      127|\n",
      "|          1992|Quality Management|      115|\n",
      "|          1992|          Research|      103|\n",
      "|          1992|   Human Resources|      102|\n",
      "|          1992|         Marketing|       90|\n",
      "|          1992|           Finance|       71|\n",
      "|          1993|       development|      497|\n",
      "|          1993|        Production|      432|\n",
      "|          1993|             Sales|      304|\n",
      "|          1993|  Customer Service|      147|\n",
      "|          1993|         Marketing|      133|\n",
      "|          1993|Quality Management|      125|\n",
      "|          1993|          Research|      116|\n",
      "|          1993|   Human Resources|       98|\n",
      "|          1993|           Finance|       95|\n",
      "|          1994|       development|      531|\n",
      "|          1994|        Production|      439|\n",
      "+--------------+------------------+---------+\n",
      "only showing top 20 rows\n",
      "\n"
     ]
    }
   ],
   "source": [
    "selective_resignation.show()"
   ]
  },
  {
   "cell_type": "markdown",
   "metadata": {},
   "source": [
    "#### Finding the top 2 for all these years"
   ]
  },
  {
   "cell_type": "code",
   "execution_count": 436,
   "metadata": {},
   "outputs": [],
   "source": [
    "windowSpec  = Window.partitionBy(\"financial_year\").orderBy(desc(\"employees\"))\n",
    "\n",
    "resignation_trend = selective_resignation.withColumn(\"row_number\", row_number().over(windowSpec))"
   ]
  },
  {
   "cell_type": "code",
   "execution_count": 446,
   "metadata": {
    "scrolled": true
   },
   "outputs": [
    {
     "name": "stdout",
     "output_type": "stream",
     "text": [
      "+--------------+-----------+---------+----------+\n",
      "|financial_year|  dept_name|employees|row_number|\n",
      "+--------------+-----------+---------+----------+\n",
      "|          1997|development|      685|         1|\n",
      "|          1997| Production|      625|         2|\n",
      "|          1994|development|      531|         1|\n",
      "|          1994| Production|      439|         2|\n",
      "|          1996|development|      632|         1|\n",
      "|          1996| Production|      523|         2|\n",
      "|          1998|development|      677|         1|\n",
      "|          1998| Production|      563|         2|\n",
      "|          1995|development|      623|         1|\n",
      "|          1995| Production|      531|         2|\n",
      "|          1992|development|      434|         1|\n",
      "|          1992| Production|      352|         2|\n",
      "|          1993|development|      497|         1|\n",
      "|          1993| Production|      432|         2|\n",
      "+--------------+-----------+---------+----------+\n",
      "\n"
     ]
    }
   ],
   "source": [
    "resignation_trend.filter(\"row_number in (1, 2)\").show()\n",
    "## we can see the maximum resignation aross all these years have been witnessed in\n",
    "\n",
    "## 1.st development and second in Production"
   ]
  },
  {
   "cell_type": "markdown",
   "metadata": {},
   "source": [
    "#### Now also major contributor to the people leaving is from development and production but numbers have drastically reduced"
   ]
  },
  {
   "cell_type": "markdown",
   "metadata": {},
   "source": [
    "## Resignation trends across all these years across all departments"
   ]
  },
  {
   "cell_type": "code",
   "execution_count": 480,
   "metadata": {},
   "outputs": [],
   "source": [
    "all_resignations = Sqlcontext.sql(\"\"\"select\n",
    "YEAR(last_date) as financial_year,\n",
    "dept_name,\n",
    "COUNT(employees.emp_no) as employees\n",
    "from employees\n",
    "join dept_emp\n",
    "on dept_emp.emp_no = employees.emp_no\n",
    "join departments\n",
    "on dept_emp.dept_no = departments.dept_no\n",
    "where last_date is not null\n",
    "group by 1, 2\n",
    "order by 1 , 3 desc\"\"\"\n",
    ").toPandas()\n",
    "\n"
   ]
  },
  {
   "cell_type": "code",
   "execution_count": 487,
   "metadata": {},
   "outputs": [
    {
     "data": {
      "image/png": "[encoded data removed]",
      "text/plain": [
       "<Figure size 1080x720 with 1 Axes>"
      ]
     },
     "metadata": {
      "needs_background": "light"
     },
     "output_type": "display_data"
    }
   ],
   "source": [
    "plt.figure(figsize = (15, 10))\n",
    "sns.lineplot(data = all_resignations, x = 'financial_year', y= 'employees', hue = 'dept_name')\n",
    "plt.show()"
   ]
  },
  {
   "cell_type": "markdown",
   "metadata": {},
   "source": [
    "### Is there any disparity in terms of project assignemnent amongst genders (M/F)?"
   ]
  },
  {
   "cell_type": "code",
   "execution_count": 495,
   "metadata": {
    "scrolled": true
   },
   "outputs": [
    {
     "name": "stdout",
     "output_type": "stream",
     "text": [
      "+---+-----------------+--------+\n",
      "|sex|mean_project_rate|projects|\n",
      "+---+-----------------+--------+\n",
      "|  F|              5.5|  660229|\n",
      "|  M|             5.51|  991351|\n",
      "+---+-----------------+--------+\n",
      "\n"
     ]
    }
   ],
   "source": [
    "Sqlcontext.sql(\"\"\"select\n",
    "sex,\n",
    "round((SUM(no_of_projects)/COUNT(emp_no)), 2) as mean_project_rate,\n",
    "SUM(no_of_projects) as projects\n",
    "from employees\n",
    "group by sex\"\"\").show()\n",
    "\n",
    "## Male are females are given same projects all these years showcasing gender parity in the organization"
   ]
  },
  {
   "cell_type": "markdown",
   "metadata": {},
   "source": [
    "### Is there any particular department having gender based segregation?"
   ]
  },
  {
   "cell_type": "code",
   "execution_count": 499,
   "metadata": {
    "scrolled": false
   },
   "outputs": [
    {
     "name": "stdout",
     "output_type": "stream",
     "text": [
      "+---+------------------+---------------+\n",
      "|sex|         dept_name|no_of_employees|\n",
      "+---+------------------+---------------+\n",
      "|  M|         Marketing|          12174|\n",
      "|  M|  Customer Service|          14132|\n",
      "|  M|Quality Management|          12039|\n",
      "|  F|         Marketing|           8037|\n",
      "|  F|Quality Management|           8078|\n",
      "|  F|  Customer Service|           9448|\n",
      "|  F|   Human Resources|           7075|\n",
      "|  F|          Research|           8439|\n",
      "|  M|          Research|          12687|\n",
      "|  M|       development|          51449|\n",
      "|  M|        Production|          43936|\n",
      "|  F|           Finance|           7015|\n",
      "|  F|             Sales|          20854|\n",
      "|  F|        Production|          29549|\n",
      "|  M|   Human Resources|          10711|\n",
      "|  M|             Sales|          31391|\n",
      "|  M|           Finance|          10331|\n",
      "|  F|       development|          34258|\n",
      "+---+------------------+---------------+\n",
      "\n"
     ]
    }
   ],
   "source": [
    "Sqlcontext.sql(\"\"\"select\n",
    "sex,\n",
    "dept_name,\n",
    "COUNT(employees.emp_no) as no_of_employees\n",
    "from departments\n",
    "join dept_emp\n",
    "on departments.dept_no = dept_emp.dept_no\n",
    "join employees\n",
    "on employees. emp_no = dept_emp.emp_no\n",
    "group by 1, 2\n",
    "\"\"\").show()"
   ]
  },
  {
   "cell_type": "code",
   "execution_count": 507,
   "metadata": {},
   "outputs": [],
   "source": [
    "gender_seg = Sqlcontext.sql(\"\"\"select\n",
    "sex,\n",
    "dept_name,\n",
    "COUNT(employees.emp_no) as no_of_employees\n",
    "from departments\n",
    "join dept_emp\n",
    "on departments.dept_no = dept_emp.dept_no\n",
    "join employees\n",
    "on employees. emp_no = dept_emp.emp_no\n",
    "group by 1, 2\n",
    "\"\"\").toPandas()"
   ]
  },
  {
   "cell_type": "code",
   "execution_count": 530,
   "metadata": {},
   "outputs": [
    {
     "name": "stdout",
     "output_type": "stream",
     "text": [
      "+------------------+\n",
      "|         dept_name|\n",
      "+------------------+\n",
      "|             Sales|\n",
      "|Quality Management|\n",
      "|           Finance|\n",
      "|        Production|\n",
      "|          Research|\n",
      "|  Customer Service|\n",
      "|         Marketing|\n",
      "|       development|\n",
      "|   Human Resources|\n",
      "+------------------+\n",
      "\n"
     ]
    }
   ],
   "source": [
    "Sqlcontext.sql(\"select distinct dept_name from departments\").show()"
   ]
  },
  {
   "cell_type": "code",
   "execution_count": 537,
   "metadata": {
    "scrolled": true
   },
   "outputs": [
    {
     "data": {
      "image/png": "[encoded data removed]",
      "text/plain": [
       "<Figure size 1512x1080 with 9 Axes>"
      ]
     },
     "metadata": {
      "needs_background": "light"
     },
     "output_type": "display_data"
    }
   ],
   "source": [
    "fig, ax = plt.subplots(3,3, sharex = True, sharey= True, figsize = (21, 15))\n",
    "\n",
    "ax1 = sns.barplot(data = gender_seg[gender_seg['dept_name'] == 'Marketing'], x = 'sex',\n",
    "            y ='no_of_employees', ax = ax[0,0], hue = 'sex')\n",
    "ax1.title.set_text('Marketing')\n",
    "\n",
    "\n",
    "ax2 = sns.barplot(data = gender_seg[gender_seg['dept_name'] == 'development'], x = 'sex',\n",
    "            y ='no_of_employees', ax = ax[0,1], hue = 'sex')\n",
    "ax2.title.set_text('development')\n",
    "\n",
    "\n",
    "ax3 = sns.barplot(data = gender_seg[gender_seg['dept_name'] == 'Human Resources'], x = 'sex',\n",
    "            y ='no_of_employees', ax = ax[0,2], hue = 'sex')\n",
    "ax3.title.set_text('Human Resources')\n",
    "\n",
    "\n",
    "\n",
    "ax4 = sns.barplot(data = gender_seg[gender_seg['dept_name'] == 'Customer Service'], x = 'sex',\n",
    "            y ='no_of_employees', ax = ax[1,0], hue = 'sex')\n",
    "ax4.title.set_text('Customer Service')\n",
    "\n",
    "\n",
    "ax5 = sns.barplot(data = gender_seg[gender_seg['dept_name'] == 'Research'], x = 'sex',\n",
    "            y ='no_of_employees', ax = ax[1,1], hue = 'sex')\n",
    "ax5.title.set_text('Research')\n",
    "\n",
    "\n",
    "ax6 = sns.barplot(data = gender_seg[gender_seg['dept_name'] == 'Production'], x = 'sex',\n",
    "            y ='no_of_employees', ax = ax[1,2], hue = 'sex')\n",
    "ax6.title.set_text('Production')\n",
    "\n",
    "\n",
    "ax7 = sns.barplot(data = gender_seg[gender_seg['dept_name'] == 'Finance'], x = 'sex',\n",
    "            y ='no_of_employees', ax = ax[2,0], hue = 'sex')\n",
    "ax7.title.set_text('Finance')\n",
    "\n",
    "\n",
    "ax8 = sns.barplot(data = gender_seg[gender_seg['dept_name'] == 'Quality Management'], x = 'sex',\n",
    "            y ='no_of_employees', ax = ax[2,1], hue = 'sex')\n",
    "ax8.title.set_text('Quality Management')\n",
    "\n",
    "\n",
    "ax9 = sns.barplot(data = gender_seg[gender_seg['dept_name'] == 'Sales'], x = 'sex',\n",
    "            y ='no_of_employees', ax = ax[2,2], hue = 'sex')\n",
    "ax9.title.set_text('Sales')\n",
    "\n",
    "\n",
    "plt.savefig(\"gender_dep\")\n",
    "plt.show()\n"
   ]
  },
  {
   "cell_type": "code",
   "execution_count": null,
   "metadata": {},
   "outputs": [],
   "source": [
    "## notecable skewness in gender divide across three departments i.e. Sales, production, and development "
   ]
  },
  {
   "cell_type": "markdown",
   "metadata": {},
   "source": [
    "## Salary distribution across titles"
   ]
  },
  {
   "cell_type": "code",
   "execution_count": 33,
   "metadata": {},
   "outputs": [
    {
     "name": "stdout",
     "output_type": "stream",
     "text": [
      "+------------------+-----------+\n",
      "|             title|mean_salary|\n",
      "+------------------+-----------+\n",
      "|      Senior Staff|    58550.0|\n",
      "|             Staff|    58465.0|\n",
      "|           Manager|    51531.0|\n",
      "|  Technique Leader|    48583.0|\n",
      "|Assistant Engineer|    48564.0|\n",
      "|          Engineer|    48535.0|\n",
      "|   Senior Engineer|    48507.0|\n",
      "+------------------+-----------+\n",
      "\n"
     ]
    }
   ],
   "source": [
    "Sqlcontext.sql(\"\"\"\n",
    "select title,\n",
    "round((SUM(salary)/COUNT(salaries.emp_no)), 0) as mean_salary\n",
    "from salaries\n",
    "join employees\n",
    "on salaries.emp_no = employees.emp_no\n",
    "join titles\n",
    "on employees.emp_title_id = titles.title_id\n",
    "group by title\n",
    "order by 2 desc\n",
    "\n",
    "\"\"\").show()"
   ]
  },
  {
   "cell_type": "markdown",
   "metadata": {},
   "source": [
    "#### Highest salary is seen for Senior Staff"
   ]
  },
  {
   "cell_type": "markdown",
   "metadata": {},
   "source": [
    "-----------------------------------------------------------------------------------------------------------------------------"
   ]
  },
  {
   "cell_type": "code",
   "execution_count": 36,
   "metadata": {},
   "outputs": [
    {
     "name": "stdout",
     "output_type": "stream",
     "text": [
      "+--------------------+\n",
      "|year(max(hire_date))|\n",
      "+--------------------+\n",
      "|                2000|\n",
      "+--------------------+\n",
      "\n"
     ]
    }
   ],
   "source": [
    "Sqlcontext.sql(\"\"\"select year(max(hire_date)) from employees\"\"\").show()\n",
    "\n",
    "## Current Year (Present Year)"
   ]
  },
  {
   "cell_type": "markdown",
   "metadata": {},
   "source": [
    "### Who all are managers right now? what department they are serving, and how many people of team they are leading at present"
   ]
  },
  {
   "cell_type": "code",
   "execution_count": 62,
   "metadata": {},
   "outputs": [],
   "source": [
    "Sqlcontext.sql(\"\"\"select\n",
    "dept_name,\n",
    "dept_manager.emp_no as manager_code,\n",
    "COUNT(dept_emp.emp_no) as no_of_employees\n",
    "from dept_manager\n",
    "join dept_emp\n",
    "on dept_manager.dept_no = dept_emp.dept_no\n",
    "join departments\n",
    "on dept_emp.dept_no = departments.dept_no\n",
    "group by 1,2\n",
    "order by 3 desc\n",
    "\n",
    "\"\"\").createOrReplaceTempView(\"manager_team_count\")"
   ]
  },
  {
   "cell_type": "code",
   "execution_count": 67,
   "metadata": {},
   "outputs": [
    {
     "name": "stdout",
     "output_type": "stream",
     "text": [
      "+------------------+-----------+-----------+---------------+\n",
      "|         dept_name| first_name|  last_name|no_of_employees|\n",
      "+------------------+-----------+-----------+---------------+\n",
      "|       development|       Leon|   DasSarma|          85707|\n",
      "|       development|   DeForest|   Hagimont|          85707|\n",
      "|        Production|  Krassimir|    Wegerle|          73485|\n",
      "|        Production|     Rosine|      Cools|          73485|\n",
      "|        Production|      Oscar|   Ghazalie|          73485|\n",
      "|        Production|       Shem|     Kieras|          73485|\n",
      "|             Sales|      Hauke|      Zhang|          52245|\n",
      "|             Sales|Przemyslawa|  Kaelbling|          52245|\n",
      "|  Customer Service|    Xiaobin|   Spinelli|          23580|\n",
      "|  Customer Service|      Marjo| Giarratana|          23580|\n",
      "|  Customer Service|      Tonny|Butterworth|          23580|\n",
      "|  Customer Service|    Yuchang|    Weedman|          23580|\n",
      "|          Research|       Arie|    Staelin|          21126|\n",
      "|          Research|     Hilary|     Kambil|          21126|\n",
      "|         Marketing|  Margareta| Markovitch|          20211|\n",
      "|         Marketing|   Vishwani|   Minakawa|          20211|\n",
      "|Quality Management|       Dung|      Pesch|          20117|\n",
      "|Quality Management|     Rutger|    Hofmeyr|          20117|\n",
      "|Quality Management|     Sanjoy|    Quadeer|          20117|\n",
      "|   Human Resources|    Karsten|    Sigstam|          17786|\n",
      "+------------------+-----------+-----------+---------------+\n",
      "only showing top 20 rows\n",
      "\n"
     ]
    }
   ],
   "source": [
    "Sqlcontext.sql(\"\"\"select\n",
    "dept_name,\n",
    "first_name,\n",
    "last_name,\n",
    "no_of_employees\n",
    "from manager_team_count\n",
    "join employees\n",
    "on manager_team_count.manager_code = employees.emp_no\n",
    "where left_status = '0'\n",
    "\"\"\").show()"
   ]
  },
  {
   "cell_type": "code",
   "execution_count": 70,
   "metadata": {},
   "outputs": [
    {
     "name": "stdout",
     "output_type": "stream",
     "text": [
      "+------------------+----------+----------+---------------+\n",
      "|         dept_name|first_name| last_name|no_of_employees|\n",
      "+------------------+----------+----------+---------------+\n",
      "|Quality Management| Peternela|   Onuegbe|          20117|\n",
      "|           Finance|     Isamu|Legleitner|          17346|\n",
      "+------------------+----------+----------+---------------+\n",
      "\n"
     ]
    }
   ],
   "source": [
    "## Out of 24 originally reported managers 2 managers left the organization\n",
    "\n",
    "Sqlcontext.sql(\"\"\"select\n",
    "dept_name,\n",
    "first_name,\n",
    "last_name,\n",
    "no_of_employees\n",
    "from manager_team_count\n",
    "join employees\n",
    "on manager_team_count.manager_code = employees.emp_no\n",
    "where left_status = '1'\n",
    "\"\"\").show()"
   ]
  },
  {
   "cell_type": "markdown",
   "metadata": {},
   "source": [
    "#### ---------------------------------------------------------------------------------------------------------------------------------------- submitted by: Lokesh Bhatt"
   ]
  },
  {
   "cell_type": "code",
   "execution_count": null,
   "metadata": {},
   "outputs": [],
   "source": []
  },
  {
   "cell_type": "code",
   "execution_count": null,
   "metadata": {},
   "outputs": [],
   "source": []
  },
  {
   "cell_type": "code",
   "execution_count": null,
   "metadata": {},
   "outputs": [],
   "source": []
  },
  {
   "cell_type": "code",
   "execution_count": null,
   "metadata": {},
   "outputs": [],
   "source": []
  },
  {
   "cell_type": "code",
   "execution_count": null,
   "metadata": {},
   "outputs": [],
   "source": []
  },
  {
   "cell_type": "code",
   "execution_count": null,
   "metadata": {},
   "outputs": [],
   "source": []
  },
  {
   "cell_type": "code",
   "execution_count": null,
   "metadata": {},
   "outputs": [],
   "source": []
  },
  {
   "cell_type": "code",
   "execution_count": null,
   "metadata": {},
   "outputs": [],
   "source": []
  },
  {
   "cell_type": "code",
   "execution_count": null,
   "metadata": {},
   "outputs": [],
   "source": []
  },
  {
   "cell_type": "code",
   "execution_count": null,
   "metadata": {},
   "outputs": [],
   "source": []
  },
  {
   "cell_type": "code",
   "execution_count": null,
   "metadata": {},
   "outputs": [],
   "source": []
  },
  {
   "cell_type": "code",
   "execution_count": null,
   "metadata": {},
   "outputs": [],
   "source": []
  },
  {
   "cell_type": "code",
   "execution_count": null,
   "metadata": {},
   "outputs": [],
   "source": []
  },
  {
   "cell_type": "code",
   "execution_count": null,
   "metadata": {},
   "outputs": [],
   "source": []
  },
  {
   "cell_type": "code",
   "execution_count": null,
   "metadata": {},
   "outputs": [],
   "source": []
  },
  {
   "cell_type": "code",
   "execution_count": null,
   "metadata": {},
   "outputs": [],
   "source": []
  },
  {
   "cell_type": "code",
   "execution_count": null,
   "metadata": {},
   "outputs": [],
   "source": []
  },
  {
   "cell_type": "code",
   "execution_count": null,
   "metadata": {},
   "outputs": [],
   "source": []
  }
 ],
 "metadata": {
  "kernelspec": {
   "display_name": "Python 3",
   "language": "python",
   "name": "python3"
  },
  "language_info": {
   "codemirror_mode": {
    "name": "ipython",
    "version": 3
   },
   "file_extension": ".py",
   "mimetype": "text/x-python",
   "name": "python",
   "nbconvert_exporter": "python",
   "pygments_lexer": "ipython3",
   "version": "3.7.6"
  }
 },
 "nbformat": 4,
 "nbformat_minor": 4
}
